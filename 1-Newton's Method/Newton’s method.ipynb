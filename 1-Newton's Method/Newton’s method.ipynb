{
 "cells": [
  {
   "cell_type": "code",
   "execution_count": 1,
   "metadata": {},
   "outputs": [],
   "source": [
    "import math"
   ]
  },
  {
   "cell_type": "code",
   "execution_count": 2,
   "metadata": {},
   "outputs": [],
   "source": [
    "def Newton(func,Derivetive,Xn):\n",
    "    XnP1 = Xn\n",
    "    temp = 0\n",
    "    while(round(XnP1,6) != round(temp,6)):\n",
    "        temp = XnP1\n",
    "        XnP1 = CalcXnP1(func,Derivetive,XnP1)\n",
    "    return XnP1\n",
    "    \n",
    "def CalcXnP1(func,Derivetive,Xn):\n",
    "    return Xn - func(Xn) / Derivetive(Xn)"
   ]
  },
  {
   "cell_type": "code",
   "execution_count": 3,
   "metadata": {},
   "outputs": [
    {
     "data": {
      "text/plain": [
       "1.618033988749989"
      ]
     },
     "execution_count": 3,
     "metadata": {},
     "output_type": "execute_result"
    }
   ],
   "source": [
    "#1\n",
    "def Func1(x):\n",
    "    return pow(x,2)-x-1\n",
    "def Derivetive1(x):\n",
    "    return 2*x-1\n",
    "\n",
    "Newton(Func1,Derivetive1,1)"
   ]
  },
  {
   "cell_type": "code",
   "execution_count": 4,
   "metadata": {},
   "outputs": [
    {
     "data": {
      "text/plain": [
       "5.6857795260896316"
      ]
     },
     "execution_count": 4,
     "metadata": {},
     "output_type": "execute_result"
    }
   ],
   "source": [
    "#2\n",
    "def Func2(x):\n",
    "    return pow(x,3)-7*pow(x,2)+8*x-3\n",
    "def Derivetive2(x):\n",
    "    return 3*pow(x,2)-14*x+8\n",
    "\n",
    "Newton(Func2,Derivetive2,5)"
   ]
  },
  {
   "cell_type": "code",
   "execution_count": 5,
   "metadata": {},
   "outputs": [
    {
     "data": {
      "text/plain": [
       "0.73908523856486"
      ]
     },
     "execution_count": 5,
     "metadata": {},
     "output_type": "execute_result"
    }
   ],
   "source": [
    "#3\n",
    "def Func3(x):\n",
    "    return x * math.cos(x) - pow(x,2)\n",
    "def Derivetive3(x):\n",
    "    return - x * math.sin(x) - 2* x\n",
    "\n",
    "Newton(Func3,Derivetive3,1)"
   ]
  }
 ],
 "metadata": {
  "kernelspec": {
   "display_name": "Python 3 (ipykernel)",
   "language": "python",
   "name": "python3"
  },
  "language_info": {
   "codemirror_mode": {
    "name": "ipython",
    "version": 3
   },
   "file_extension": ".py",
   "mimetype": "text/x-python",
   "name": "python",
   "nbconvert_exporter": "python",
   "pygments_lexer": "ipython3",
   "version": "3.8.5"
  }
 },
 "nbformat": 4,
 "nbformat_minor": 4
}
